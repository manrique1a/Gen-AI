{
 "cells": [
  {
   "cell_type": "code",
   "execution_count": 3,
   "metadata": {},
   "outputs": [
    {
     "name": "stdout",
     "output_type": "stream",
     "text": [
      "Filtered file saved to: uchicago_datascience_cleaned.txt\n"
     ]
    }
   ],
   "source": [
    "input_path = \"uchicago_datascience_fullscrape.txt\"\n",
    "output_path = \"uchicago_datascience_cleaned.txt\"\n",
    "\n",
    "with open(input_path, \"r\", encoding=\"utf-8\") as infile:\n",
    "    lines = infile.readlines()\n",
    "\n",
    "# Filter out lines with unwanted URL patterns\n",
    "excluded_substrings = [\n",
    "    \"https://datascience.uchicago.edu/people/\",\n",
    "    \"https://datascience.uchicago.edu/news/\",\n",
    "    \"https://datascience.uchicago.edu/events/\",\n",
    "    \"https://datascience.uchicago.edu/research/\",\n",
    "    \"https://datascience.uchicago.edu/outreach/\"\n",
    "]\n",
    "\n",
    "filtered_lines = [\n",
    "    line for line in lines\n",
    "    if not any(substring in line for substring in excluded_substrings)\n",
    "]\n",
    "\n",
    "# Save the cleaned output\n",
    "with open(output_path, \"w\", encoding=\"utf-8\") as outfile:\n",
    "    outfile.writelines(filtered_lines)\n",
    "\n",
    "print(f\"Filtered file saved to: {output_path}\")\n"
   ]
  }
 ],
 "metadata": {
  "kernelspec": {
   "display_name": "base",
   "language": "python",
   "name": "python3"
  },
  "language_info": {
   "codemirror_mode": {
    "name": "ipython",
    "version": 3
   },
   "file_extension": ".py",
   "mimetype": "text/x-python",
   "name": "python",
   "nbconvert_exporter": "python",
   "pygments_lexer": "ipython3",
   "version": "3.11.5"
  }
 },
 "nbformat": 4,
 "nbformat_minor": 2
}
